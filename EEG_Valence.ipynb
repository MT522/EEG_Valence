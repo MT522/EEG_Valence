{
 "cells": [
  {
   "cell_type": "code",
   "execution_count": 10,
   "id": "6c8d4c5c-2492-4894-8651-4acbc13e59ee",
   "metadata": {},
   "outputs": [],
   "source": [
    "import numpy as np\n",
    "import pandas as pd\n",
    "from scipy import io as sio\n",
    "\n",
    "import warnings\n",
    "\n",
    "warnings.filterwarnings('ignore')"
   ]
  },
  {
   "cell_type": "markdown",
   "id": "0226992b-10b2-4493-9c1e-9566975e66be",
   "metadata": {},
   "source": [
    "### Load the Data"
   ]
  },
  {
   "cell_type": "code",
   "execution_count": 2,
   "id": "4cad2081-5676-4024-aaad-85d3fafd346f",
   "metadata": {},
   "outputs": [],
   "source": [
    "data = sio.loadmat('Project_data.mat')\n",
    "channels = data['Channels']\n",
    "test_data = data['TestData']\n",
    "train_data = data['TrainData']\n",
    "train_labels = data['TrainLabels'].ravel()\n",
    "fs = data['fs']"
   ]
  },
  {
   "cell_type": "code",
   "execution_count": 3,
   "id": "5b64d437-f650-411e-9de2-69901768687d",
   "metadata": {},
   "outputs": [
    {
     "data": {
      "text/plain": [
       "((550,), (59, 5000, 550), (59, 5000, 159))"
      ]
     },
     "execution_count": 3,
     "metadata": {},
     "output_type": "execute_result"
    }
   ],
   "source": [
    "train_labels.shape, train_data.shape, test_data.shape"
   ]
  },
  {
   "cell_type": "markdown",
   "id": "749db5ba-a951-46e1-89a5-3b01ac2ed6f1",
   "metadata": {},
   "source": [
    "### Functions to Extract Features "
   ]
  },
  {
   "cell_type": "code",
   "execution_count": 4,
   "id": "398b0413-4811-4924-a317-29f575d300f3",
   "metadata": {},
   "outputs": [],
   "source": [
    "from sklearn.linear_model import LinearRegression\n",
    "from scipy.signal import welch\n",
    "from scipy.integrate import simps\n",
    "\n",
    "def calc_variance(data):\n",
    "    return np.std(data, axis=1).T\n",
    "\n",
    "def calc_amp_hist(data, num_bins):\n",
    "    num_channels = data.shape[0]\n",
    "    num_trials = data.shape[2]\n",
    "    features = np.zeros((num_trials, num_channels*(num_bins+1)))\n",
    "    for i in range(num_trials):\n",
    "        for j in range(num_channels):\n",
    "            features[i, j*(num_bins+1):(j+1)*(num_bins+1)] = np.histogram(data[j, :, i], num_bins)[1]\n",
    "\n",
    "    return features\n",
    "\n",
    "def calc_ar(data, model_size, fit_intercept):\n",
    "    num_channels = data.shape[0]\n",
    "    num_trials = data.shape[2]\n",
    "    signal_length = data.shape[1]\n",
    "\n",
    "    features = np.zeros((num_trials, num_channels*(model_size + (lambda x: 1 if x else 0)(fit_intercept))))\n",
    "    for i in range(num_trials):\n",
    "        for j in range(num_channels):\n",
    "            signal = data[j, :, i]\n",
    "\n",
    "            feature_mat = np.zeros((signal_length-model_size, model_size))\n",
    "            for k in range(model_size, signal_length):\n",
    "                feature_mat[k-model_size, :] = signal[k-model_size:k]\n",
    "\n",
    "            lr = LinearRegression(fit_intercept=fit_intercept)\n",
    "            lr.fit(feature_mat, signal[model_size:])\n",
    "\n",
    "            if fit_intercept:\n",
    "                features[i, j*(model_size+1):(j+1)*(model_size+1)] = np.insert(lr.coef_, 0, lr.intercept_)\n",
    "            else:\n",
    "                features[i, j*(model_size):(j+1)*(model_size)] = lr.coef_\n",
    "\n",
    "    return features\n",
    "\n",
    "def calc_correlation(data):\n",
    "    num_channels = data.shape[0]\n",
    "    num_trials = data.shape[2]\n",
    "\n",
    "    features = np.zeros((num_trials, num_channels**2))\n",
    "    for i in range(num_trials):\n",
    "        for j in range(num_channels):\n",
    "            for k in range(num_channels):\n",
    "                mean1 = np.mean(data[j, :, i])\n",
    "                mean2 = np.mean(data[k, :, i])\n",
    "\n",
    "                features[i, j*num_channels + k] = np.mean((data[j, :, i] - mean1)*(data[k, :, i])-mean2)\n",
    "\n",
    "    return features\n",
    "\n",
    "def calc_max_freq(data, fs): \n",
    "    num_channels = data.shape[0]\n",
    "    num_trials = data.shape[2]\n",
    "\n",
    "    features = np.zeros((num_trials, num_channels))\n",
    "    for i in range(num_trials):\n",
    "        for j in range(num_channels):      \n",
    "            frequencies, psd = welch(data[j, :, i], fs=fs, nperseg=2048)\n",
    "            frequencies = frequencies.ravel()\n",
    "            features[i, j] = frequencies[np.argmax(psd)]\n",
    "\n",
    "    return features\n",
    "\n",
    "def calc_mean_freq(data, fs): \n",
    "    num_channels = data.shape[0]\n",
    "    num_trials = data.shape[2]\n",
    "\n",
    "    features = np.zeros((num_trials, num_channels))\n",
    "    for i in range(num_trials):\n",
    "        for j in range(num_channels):      \n",
    "            frequencies, psd = welch(data[j, :, i], fs=fs, nperseg=2048)\n",
    "            frequencies = frequencies.ravel()\n",
    "            features[i, j] = np.sum(frequencies * psd) / np.sum(psd)\n",
    "\n",
    "    return features\n",
    "\n",
    "def calc_median_freq(data, fs): \n",
    "    num_channels = data.shape[0]\n",
    "    num_trials = data.shape[2]\n",
    "\n",
    "    features = np.zeros((num_trials, num_channels))\n",
    "    for i in range(num_trials):\n",
    "        for j in range(num_channels):      \n",
    "            frequencies, psd = welch(data[j, :, i], fs=fs, nperseg=2048)\n",
    "            frequencies = frequencies.ravel()\n",
    "            cumulative_psd = np.cumsum(psd)\n",
    "            median_index = np.where(cumulative_psd >= cumulative_psd[-1] / 2)[0][0]\n",
    "\n",
    "            features[i, j] = frequencies[median_index]\n",
    "\n",
    "    return features\n",
    "\n",
    "def calc_rel_energy(data, fs, bands):\n",
    "    num_channels = data.shape[0]\n",
    "    num_trials = data.shape[2]\n",
    "    \n",
    "    features = np.zeros((num_trials, num_channels*len(bands.keys())))\n",
    "    for i in range(num_trials):\n",
    "        for j in range(num_channels):\n",
    "            frequencies, psd = welch(data[j, :, i], fs=fs, nperseg=2048)\n",
    "            frequencies = frequencies.ravel()\n",
    "\n",
    "            total_energy = simps(psd, frequencies)\n",
    "            \n",
    "            for k, (band, (low, high)) in enumerate(bands.items()):\n",
    "                idx_band = np.logical_and(frequencies >= low, frequencies <= high)\n",
    "                band_energy = simps(psd[idx_band], frequencies[idx_band], axis=0)\n",
    "                relative_band_energy = band_energy / total_energy\n",
    "\n",
    "                features[i, j*len(bands.keys()) + k] = relative_band_energy\n",
    "\n",
    "    return features"
   ]
  },
  {
   "cell_type": "markdown",
   "id": "eb189a90-c803-4e30-a47a-e24a11043f30",
   "metadata": {},
   "source": [
    "### Feature Extraction"
   ]
  },
  {
   "cell_type": "code",
   "execution_count": 79,
   "id": "ae6283d0-b38b-4c6d-afff-7dd1286bf83c",
   "metadata": {},
   "outputs": [],
   "source": [
    "ar_no_intercept = calc_ar(train_data, 10, False) #Takes lots of time to run!! Load the pre-calculated data instead!\n",
    "np.save('ar_no_intercept', ar_no_intercept)"
   ]
  },
  {
   "cell_type": "code",
   "execution_count": 87,
   "id": "f0e2e3bf-2763-406c-9fd3-6b548a33a250",
   "metadata": {},
   "outputs": [],
   "source": [
    "cross_corr = calc_correlation(train_data) #Takes lots of time to run!! Load the pre-calculated data instead!\n",
    "np.save('cross_corr', cross_corr)"
   ]
  },
  {
   "cell_type": "markdown",
   "id": "137ce40a-9008-468b-8c7e-0c096e5a5413",
   "metadata": {},
   "source": [
    "#### Time Features"
   ]
  },
  {
   "cell_type": "code",
   "execution_count": 8,
   "id": "0c851921-bf92-4795-9945-273b812a19d7",
   "metadata": {},
   "outputs": [],
   "source": [
    "var = calc_variance(train_data)\n",
    "amp_hist = calc_amp_hist(train_data, 10)\n",
    "ar_model = np.load('ar_no_intercept.npy')\n",
    "cross_corr = np.load('cross_corr.npy')"
   ]
  },
  {
   "cell_type": "code",
   "execution_count": 15,
   "id": "5aa0873f-8e9f-47c4-a6f1-5172b43bdbab",
   "metadata": {},
   "outputs": [],
   "source": [
    "var_test = calc_variance(test_data)\n",
    "amp_hist_test = calc_amp_hist(test_data, 10)\n",
    "ar_model_test = calc_ar(test_data, 10, False)\n",
    "cross_corr_test = calc_correlation(test_data)"
   ]
  },
  {
   "cell_type": "code",
   "execution_count": 12,
   "id": "120d18a5-ee7b-476e-9c1e-8a59231eb4e2",
   "metadata": {},
   "outputs": [
    {
     "data": {
      "text/plain": [
       "((550, 59), (550, 649), (550, 590), (550, 3481))"
      ]
     },
     "execution_count": 12,
     "metadata": {},
     "output_type": "execute_result"
    }
   ],
   "source": [
    "var.shape, amp_hist.shape, ar_model.shape, cross_corr.shape"
   ]
  },
  {
   "cell_type": "markdown",
   "id": "f28552cb-ed12-4967-9e39-047e98d23fe5",
   "metadata": {},
   "source": [
    "#### Frequency Features"
   ]
  },
  {
   "cell_type": "code",
   "execution_count": 11,
   "id": "aa1eda93-a45d-45a6-92c7-7887be0d86fe",
   "metadata": {},
   "outputs": [],
   "source": [
    "bands = {\n",
    "    'Delta': (0.1, 4),\n",
    "    'Theta': (4, 8),\n",
    "    'Alpha': (8, 12),\n",
    "    'Low-Range Beta': (12, 16),\n",
    "    'Mid-Range Beta': (16, 21),\n",
    "    'High-Range Beta': (21, 30),\n",
    "    'Gamma': (30, 500)\n",
    "}\n",
    "\n",
    "max_freq = calc_max_freq(train_data, fs)\n",
    "mean_freq = calc_mean_freq(train_data, fs)\n",
    "med_freq = calc_median_freq(train_data, fs)\n",
    "rel_energy = calc_rel_energy(train_data, fs, bands)"
   ]
  },
  {
   "cell_type": "code",
   "execution_count": 16,
   "id": "75238637-55bf-4582-bf49-f1eb70d06487",
   "metadata": {},
   "outputs": [],
   "source": [
    "max_freq_test = calc_max_freq(test_data, fs)\n",
    "mean_freq_test = calc_mean_freq(test_data, fs)\n",
    "med_freq_test = calc_median_freq(test_data, fs)\n",
    "rel_energy_test = calc_rel_energy(test_data, fs, bands)"
   ]
  },
  {
   "cell_type": "code",
   "execution_count": 13,
   "id": "7dcb6b43-82bb-4d90-a29e-e7a8ea2a69eb",
   "metadata": {},
   "outputs": [
    {
     "data": {
      "text/plain": [
       "((550, 59), (550, 59), (550, 59), (550, 413))"
      ]
     },
     "execution_count": 13,
     "metadata": {},
     "output_type": "execute_result"
    }
   ],
   "source": [
    "max_freq.shape, mean_freq.shape, med_freq.shape, rel_energy.shape"
   ]
  },
  {
   "cell_type": "markdown",
   "id": "b2c5f957-a382-4a5c-8979-37639de55c8e",
   "metadata": {},
   "source": [
    "#### Aggregate and Save"
   ]
  },
  {
   "cell_type": "code",
   "execution_count": 18,
   "id": "95fe0a1c-0461-4fe4-8f43-2f4d0416c82c",
   "metadata": {},
   "outputs": [],
   "source": [
    "np.save('var', var)\n",
    "np.save('amp_hist', amp_hist)\n",
    "np.save('ar_model', ar_model)\n",
    "np.save('cross_corr', cross_corr)\n",
    "np.save('max_freq', max_freq)\n",
    "np.save('mean_freq', mean_freq)\n",
    "np.save('med_freq', med_freq)\n",
    "np.save('rel_energy', rel_energy)"
   ]
  },
  {
   "cell_type": "code",
   "execution_count": 19,
   "id": "0c0d8f60-efb9-4733-ba82-774f645e8cc0",
   "metadata": {},
   "outputs": [],
   "source": [
    "np.save('var_test', var_test)\n",
    "np.save('amp_hist_test', amp_hist_test)\n",
    "np.save('ar_model_test', ar_model_test)\n",
    "np.save('cross_corr_test', cross_corr_test)\n",
    "np.save('max_freq_test', max_freq_test)\n",
    "np.save('mean_freq_test', mean_freq_test)\n",
    "np.save('med_freq_test', med_freq_test)\n",
    "np.save('rel_energy_test', rel_energy_test)"
   ]
  },
  {
   "cell_type": "code",
   "execution_count": null,
   "id": "89a1acf4-c93b-4ef2-9500-4015c1749712",
   "metadata": {},
   "outputs": [],
   "source": [
    "features_tr = np.concatenate()"
   ]
  }
 ],
 "metadata": {
  "kernelspec": {
   "display_name": "Python 3 (ipykernel)",
   "language": "python",
   "name": "python3"
  },
  "language_info": {
   "codemirror_mode": {
    "name": "ipython",
    "version": 3
   },
   "file_extension": ".py",
   "mimetype": "text/x-python",
   "name": "python",
   "nbconvert_exporter": "python",
   "pygments_lexer": "ipython3",
   "version": "3.9.7"
  }
 },
 "nbformat": 4,
 "nbformat_minor": 5
}
